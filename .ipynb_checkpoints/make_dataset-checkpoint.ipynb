{
 "cells": [
  {
   "cell_type": "code",
   "execution_count": 12,
   "metadata": {},
   "outputs": [],
   "source": [
    "import matplotlib\n",
    "import numpy as np\n",
    "import pandas as pd\n",
    "import sys\n",
    "# sys.path.append(\"this\\is\\the\\path\")\n",
    "import urllib.request\n",
    "from time import sleep\n",
    "from datetime import date\n",
    "import datetime\n",
    "import zipfile"
   ]
  },
  {
   "cell_type": "code",
   "execution_count": 2,
   "metadata": {},
   "outputs": [],
   "source": [
    "# create a password manager\n",
    "password_mgr = urllib.request.HTTPPasswordMgrWithDefaultRealm()\n",
    "\n",
    "# Add the username and password.\n",
    "# If we knew the realm, we could use it instead of None.\n",
    "username=18075520\n",
    "password=46027091\n",
    "\n",
    "top_level_url = \"http://www.jrdb.com/member/\"\n",
    "password_mgr.add_password(None, top_level_url, username, password)\n",
    "\n",
    "handler = urllib.request.HTTPBasicAuthHandler(password_mgr)\n",
    "\n",
    "# create \"opener\" (OpenerDirector instance)\n",
    "opener = urllib.request.build_opener(handler)\n",
    "\n",
    "# use the opener to fetch a URL\n",
    "# opener.open(\"http://www.jrdb.com/member/datazip/Kyi/2018/KYI180722.zip\")\n",
    "\n",
    "# Install the opener.\n",
    "# Now all calls to urllib.request.urlopen use our opener.\n",
    "urllib.request.install_opener(opener)"
   ]
  },
  {
   "cell_type": "code",
   "execution_count": 4,
   "metadata": {},
   "outputs": [],
   "source": [
    "today = date.today()"
   ]
  },
  {
   "cell_type": "code",
   "execution_count": 8,
   "metadata": {},
   "outputs": [],
   "source": [
    "today = today + datetime.timedelta(days=1)"
   ]
  },
  {
   "cell_type": "code",
   "execution_count": 9,
   "metadata": {},
   "outputs": [
    {
     "data": {
      "text/plain": [
       "datetime.date(2018, 9, 1)"
      ]
     },
     "execution_count": 9,
     "metadata": {},
     "output_type": "execute_result"
    }
   ],
   "source": [
    "#URLと保存パスを指定\n",
    "i = today.year % 100\n",
    "j = today.month\n",
    "k = today.day\n",
    "l = \"PACI\" + str(i) + str(j).zfill(2) + str(k).zfill(2) \n",
    "print(l)\n",
    "\n",
    "url = \"http://www.jrdb.com/member/datazip/Paci/20\" + str(i) + \"/\" + l + \".zip\"\n",
    "savename = \"./BAC/\" + l  + \".zip\"\n",
    "\n",
    "#ダウンロード --- （＊１）\n",
    "nem = urllib.request.urlopen(url).read()\n",
    "\n",
    "#ファイルへ保存 --- （＊２）\n",
    "with open(savename, mode=\"wb\") as f:\n",
    "    f.write(nem)\n",
    "    print(\"保存しました\") \n",
    "# http://www.jrdb.com/member/datazip/Kyi/2016/KYI160105.zip"
   ]
  },
  {
   "cell_type": "code",
   "execution_count": 11,
   "metadata": {},
   "outputs": [
    {
     "data": {
      "text/plain": [
       "18"
      ]
     },
     "execution_count": 11,
     "metadata": {},
     "output_type": "execute_result"
    }
   ],
   "source": [
    "today.year % 100"
   ]
  },
  {
   "cell_type": "code",
   "execution_count": null,
   "metadata": {},
   "outputs": [],
   "source": [
    "def unzip(zip_filename):\n",
    "        zip_file = zipfile.ZipFile(zip_filename, \"r\")\n",
    "        for filename in zip_file.namelist():\n",
    "                unzip_file = file(directory+filename, \"wb\")\n",
    "                unzip_file.write(zip_file.read(filename))\n",
    "                unzip_file.close()\n",
    "        zip_file.close()"
   ]
  },
  {
   "cell_type": "code",
   "execution_count": null,
   "metadata": {},
   "outputs": [],
   "source": [
    "if __name__ == \"__main__\":\n",
    "        unzip(\"ファイル名.zip\")"
   ]
  }
 ],
 "metadata": {
  "kernelspec": {
   "display_name": "Python 3",
   "language": "python",
   "name": "python3"
  },
  "language_info": {
   "codemirror_mode": {
    "name": "ipython",
    "version": 3
   },
   "file_extension": ".py",
   "mimetype": "text/x-python",
   "name": "python",
   "nbconvert_exporter": "python",
   "pygments_lexer": "ipython3",
   "version": "3.6.4"
  }
 },
 "nbformat": 4,
 "nbformat_minor": 2
}
